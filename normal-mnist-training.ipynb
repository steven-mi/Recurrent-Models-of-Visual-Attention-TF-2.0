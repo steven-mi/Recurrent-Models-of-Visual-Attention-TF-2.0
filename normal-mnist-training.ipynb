{
 "cells": [
  {
   "cell_type": "code",
   "execution_count": 1,
   "metadata": {},
   "outputs": [],
   "source": [
    "import tensorflow as tf\n",
    "from model.ram import RecurrentAttentionModel\n",
    "import numpy as np\n",
    "import time\n",
    "\n",
    "from data.augmented_mnist import minibatcher\n",
    "from data.augmented_mnist import get_mnist"
   ]
  },
  {
   "cell_type": "code",
   "execution_count": 2,
   "metadata": {},
   "outputs": [
    {
     "name": "stdout",
     "output_type": "stream",
     "text": [
      "(60000, 28, 28, 1) (60000, 10) 1.0 0.0\n",
      "(10000, 28, 28, 1) (10000, 10) 1.0 0.0\n"
     ]
    }
   ],
   "source": [
    "(X_train, y_train),(X_test, y_test) = get_mnist(True, True, False)\n",
    "print(X_train.shape, y_train.shape, np.max(X_train), np.min(X_train))\n",
    "print(X_test.shape, y_test.shape, np.max(X_test), np.min(X_test))"
   ]
  },
  {
   "cell_type": "code",
   "execution_count": 3,
   "metadata": {},
   "outputs": [],
   "source": [
    "# trainings step\n",
    "loss = tf.keras.metrics.Mean(name='hybrid_loss')\n",
    "reward = tf.keras.metrics.Mean(name='reward')\n",
    "baseline_mse = tf.keras.metrics.Mean(name='baseline_mse')\n",
    "classification_loss = tf.keras.metrics.Mean(name='classification_loss')\n",
    "test_accuracy = tf.keras.metrics.Mean(name='test_accuracy')               "
   ]
  },
  {
   "cell_type": "code",
   "execution_count": 4,
   "metadata": {},
   "outputs": [],
   "source": [
    "def train(learning_rate, std, batch_size=200, epochs=10):\n",
    "    ram = RecurrentAttentionModel(time_steps=7,\n",
    "                              n_glimpses=1, \n",
    "                              glimpse_size=8,\n",
    "                              num_classes=10,\n",
    "                              max_gradient_norm=5.0,\n",
    "                              std=std)\n",
    "    optimizer = tf.keras.optimizers.Adam(learning_rate)\n",
    "    for e in range(epochs):\n",
    "        # trainings step\n",
    "        batcher = minibatcher(X_train, y_train, batch_size, True)\n",
    "        for X, y in batcher:\n",
    "            with tf.GradientTape() as tape:\n",
    "                logits = ram(X)\n",
    "                hybrid_loss, c_loss, r, b_mse = ram.hybrid_loss(logits, y)\n",
    "\n",
    "                gradients = tape.gradient(hybrid_loss, ram.trainable_variables)\n",
    "                optimizer.apply_gradients(zip(gradients, ram.trainable_variables))\n",
    "\n",
    "            loss(hybrid_loss)\n",
    "            classification_loss(c_loss)\n",
    "            baseline_mse(b_mse)\n",
    "            reward(r)\n",
    "\n",
    "        # testing step\n",
    "        batcher = minibatcher(X_test, y_test, batch_size, True)\n",
    "        for X, y in batcher:\n",
    "            logits = ram(X)\n",
    "            accuracy, _, _ = ram.predict(logits, y)\n",
    "            test_accuracy(accuracy)\n",
    "\n",
    "        # Get the metric results\n",
    "        current_loss = loss.result().numpy()\n",
    "        current_reward = reward.result().numpy()\n",
    "        current_baseline_mse = baseline_mse.result().numpy()\n",
    "        current_classification_loss = classification_loss.result().numpy()\n",
    "        current_test_accuracy = test_accuracy.result().numpy()\n",
    "        print(\"Epoch:\", e, \"loss:\", current_loss, \"reward:\", current_reward, \"baseline mse:\", current_baseline_mse, \"classification loss:\", current_classification_loss, \"accuracy:\", current_test_accuracy)"
   ]
  },
  {
   "cell_type": "code",
   "execution_count": 5,
   "metadata": {},
   "outputs": [
    {
     "name": "stdout",
     "output_type": "stream",
     "text": [
      "Epoch: 0 loss: 2.061417 reward: 0.36596745 baseline mse: 0.3574243 classification loss: 1.7768238 accuracy: 0.44439995\n",
      "Epoch: 1 loss: 1.9319688 reward: 0.440009 baseline mse: 0.42970714 classification loss: 1.5906212 accuracy: 0.49264964\n",
      "Epoch: 2 loss: 1.8503592 reward: 0.48399484 baseline mse: 0.47263905 classification loss: 1.4758449 accuracy: 0.53376675\n",
      "Epoch: 3 loss: 1.7894381 reward: 0.5165669 baseline mse: 0.50444 classification loss: 1.3894031 accuracy: 0.559875\n",
      "Epoch: 4 loss: 1.7383448 reward: 0.5432736 baseline mse: 0.5305085 classification loss: 1.3180213 accuracy: 0.58172005\n",
      "Epoch: 5 loss: 1.6962256 reward: 0.56528866 baseline mse: 0.5519965 classification loss: 1.258963 accuracy: 0.6000836\n",
      "Epoch: 6 loss: 1.6597849 reward: 0.58328986 baseline mse: 0.5695638 classification loss: 1.2086772 accuracy: 0.61245733\n",
      "Epoch: 7 loss: 1.6282768 reward: 0.5991296 baseline mse: 0.58502704 classification loss: 1.165122 accuracy: 0.6275124\n",
      "Epoch: 8 loss: 1.599892 reward: 0.613419 baseline mse: 0.598976 classification loss: 1.1257795 accuracy: 0.64015573\n",
      "Epoch: 9 loss: 1.5748472 reward: 0.6257178 baseline mse: 0.61097586 classification loss: 1.0912999 accuracy: 0.6504605\n"
     ]
    }
   ],
   "source": [
    "train(1e-3, 0.22, batch_size=20)"
   ]
  }
 ],
 "metadata": {
  "kernelspec": {
   "display_name": "Python 3",
   "language": "python",
   "name": "python3"
  },
  "language_info": {
   "codemirror_mode": {
    "name": "ipython",
    "version": 3
   },
   "file_extension": ".py",
   "mimetype": "text/x-python",
   "name": "python",
   "nbconvert_exporter": "python",
   "pygments_lexer": "ipython3",
   "version": "3.5.2"
  },
  "notify_time": "0",
  "varInspector": {
   "cols": {
    "lenName": 16,
    "lenType": 16,
    "lenVar": 40
   },
   "kernels_config": {
    "python": {
     "delete_cmd_postfix": "",
     "delete_cmd_prefix": "del ",
     "library": "var_list.py",
     "varRefreshCmd": "print(var_dic_list())"
    },
    "r": {
     "delete_cmd_postfix": ") ",
     "delete_cmd_prefix": "rm(",
     "library": "var_list.r",
     "varRefreshCmd": "cat(var_dic_list()) "
    }
   },
   "position": {
    "height": "176px",
    "left": "909px",
    "right": "50px",
    "top": "121px",
    "width": "321px"
   },
   "types_to_exclude": [
    "module",
    "function",
    "builtin_function_or_method",
    "instance",
    "_Feature"
   ],
   "window_display": false
  }
 },
 "nbformat": 4,
 "nbformat_minor": 2
}
