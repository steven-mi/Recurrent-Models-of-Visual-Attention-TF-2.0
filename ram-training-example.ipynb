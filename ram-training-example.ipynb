{
 "cells": [
  {
   "cell_type": "code",
   "execution_count": 1,
   "metadata": {},
   "outputs": [],
   "source": [
    "import tensorflow as tf\n",
    "import logging\n",
    "tf.get_logger().setLevel(logging.ERROR)\n",
    "\n",
    "from model.ram import RecurrentAttentionModel\n",
    "import numpy as np\n",
    "import time\n",
    "\n",
    "from data.augmented_mnist import minibatcher\n",
    "from data.augmented_mnist import get_mnist"
   ]
  },
  {
   "cell_type": "code",
   "execution_count": 2,
   "metadata": {},
   "outputs": [
    {
     "name": "stdout",
     "output_type": "stream",
     "text": [
      "(60000, 28, 28, 1) (60000, 10) 1.0 0.0\n",
      "(10000, 28, 28, 1) (10000, 10) 1.0 0.0\n"
     ]
    }
   ],
   "source": [
    "(X_train, y_train),(X_test, y_test) = get_mnist(True, True, False)\n",
    "print(X_train.shape, y_train.shape, np.max(X_train), np.min(X_train))\n",
    "print(X_test.shape, y_test.shape, np.max(X_test), np.min(X_test))"
   ]
  },
  {
   "cell_type": "code",
   "execution_count": 3,
   "metadata": {},
   "outputs": [],
   "source": [
    "# trainings step\n",
    "loss = tf.keras.metrics.Mean(name='hybrid_loss')\n",
    "reward = tf.keras.metrics.Mean(name='reward')\n",
    "baseline_mse = tf.keras.metrics.Mean(name='baseline_mse')\n",
    "classification_loss = tf.keras.metrics.Mean(name='classification_loss')\n",
    "test_accuracy = tf.keras.metrics.Mean(name='test_accuracy')               "
   ]
  },
  {
   "cell_type": "code",
   "execution_count": 4,
   "metadata": {},
   "outputs": [],
   "source": [
    "def train(learning_rate, std, batch_size=20, epochs=10):\n",
    "    ram = RecurrentAttentionModel(time_steps=7,\n",
    "                              n_glimpses=1, \n",
    "                              glimpse_size=8,\n",
    "                              num_classes=10,\n",
    "                              max_gradient_norm=5.0,\n",
    "                              std=std)\n",
    "    optimizer = tf.keras.optimizers.Adam(learning_rate)\n",
    "    for e in range(epochs):\n",
    "        # trainings step\n",
    "        batcher = minibatcher(X_train, y_train, batch_size, True)\n",
    "        for X, y in batcher:\n",
    "            with tf.GradientTape() as tape:\n",
    "                logits = ram.call(X)\n",
    "                hybrid_loss, c_loss, r, b_mse = ram.hybrid_loss(logits, y)\n",
    "\n",
    "                gradients = tape.gradient(hybrid_loss, ram.trainable_variables)\n",
    "                optimizer.apply_gradients(zip(gradients, ram.trainable_variables))\n",
    "\n",
    "            loss(hybrid_loss)\n",
    "            classification_loss(c_loss)\n",
    "            baseline_mse(b_mse)\n",
    "            reward(r)\n",
    "\n",
    "        # testing step\n",
    "        batcher = minibatcher(X_test, y_test, batch_size, True)\n",
    "        for X, y in batcher:\n",
    "            logits = ram(X)\n",
    "            accuracy, _, _ = ram.predict(logits, y)\n",
    "            test_accuracy(accuracy)\n",
    "\n",
    "        # Get the metric results\n",
    "        current_loss = loss.result().numpy()\n",
    "        current_reward = reward.result().numpy()\n",
    "        current_baseline_mse = baseline_mse.result().numpy()\n",
    "        current_classification_loss = classification_loss.result().numpy()\n",
    "        current_test_accuracy = test_accuracy.result().numpy()\n",
    "        print(\"Epoch:\", e, \"loss:\", current_loss, \"reward:\", current_reward, \"baseline mse:\", current_baseline_mse, \"classification loss:\", current_classification_loss, \"accuracy:\", current_test_accuracy)"
   ]
  },
  {
   "cell_type": "code",
   "execution_count": 5,
   "metadata": {
    "scrolled": false
   },
   "outputs": [
    {
     "name": "stdout",
     "output_type": "stream",
     "text": [
      "Epoch: 0 loss: 2.136445 reward: 0.31918344 baseline mse: 0.3101171 classification loss: 1.8851024 accuracy: 0.44660002\n",
      "Epoch: 1 loss: 1.9870595 reward: 0.40228355 baseline mse: 0.39081162 classification loss: 1.6713425 accuracy: 0.45994997\n",
      "Epoch: 2 loss: 1.8962046 reward: 0.44974485 baseline mse: 0.4368791 classification loss: 1.5440432 accuracy: 0.49766666\n",
      "Epoch: 3 loss: 1.8231125 reward: 0.48652118 baseline mse: 0.47257695 classification loss: 1.4423995 accuracy: 0.5281001\n",
      "Epoch: 4 loss: 1.7551184 reward: 0.52142024 baseline mse: 0.50644195 classification loss: 1.3475928 accuracy: 0.5621401\n",
      "Epoch: 5 loss: 1.7083069 reward: 0.54399765 baseline mse: 0.52835685 classification loss: 1.2832794 accuracy: 0.59061664\n",
      "Epoch: 6 loss: 1.6594535 reward: 0.56884295 baseline mse: 0.5524692 classification loss: 1.215414 accuracy: 0.60555714\n",
      "Epoch: 7 loss: 1.622904 reward: 0.586942 baseline mse: 0.57004255 classification loss: 1.1648072 accuracy: 0.62403744\n",
      "Epoch: 8 loss: 1.5880995 reward: 0.60426867 baseline mse: 0.5868617 classification loss: 1.1167257 accuracy: 0.6357111\n",
      "Epoch: 9 loss: 1.5574441 reward: 0.61949384 baseline mse: 0.6016363 classification loss: 1.0742531 accuracy: 0.65092\n"
     ]
    }
   ],
   "source": [
    "train(1e-3, 0.22, batch_size=500)"
   ]
  }
 ],
 "metadata": {
  "kernelspec": {
   "display_name": "Python 3",
   "language": "python",
   "name": "python3"
  },
  "language_info": {
   "codemirror_mode": {
    "name": "ipython",
    "version": 3
   },
   "file_extension": ".py",
   "mimetype": "text/x-python",
   "name": "python",
   "nbconvert_exporter": "python",
   "pygments_lexer": "ipython3",
   "version": "3.5.2"
  },
  "notify_time": "0",
  "varInspector": {
   "cols": {
    "lenName": 16,
    "lenType": 16,
    "lenVar": 40
   },
   "kernels_config": {
    "python": {
     "delete_cmd_postfix": "",
     "delete_cmd_prefix": "del ",
     "library": "var_list.py",
     "varRefreshCmd": "print(var_dic_list())"
    },
    "r": {
     "delete_cmd_postfix": ") ",
     "delete_cmd_prefix": "rm(",
     "library": "var_list.r",
     "varRefreshCmd": "cat(var_dic_list()) "
    }
   },
   "position": {
    "height": "176px",
    "left": "909px",
    "right": "50px",
    "top": "121px",
    "width": "321px"
   },
   "types_to_exclude": [
    "module",
    "function",
    "builtin_function_or_method",
    "instance",
    "_Feature"
   ],
   "window_display": false
  }
 },
 "nbformat": 4,
 "nbformat_minor": 2
}
